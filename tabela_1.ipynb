{
 "cells": [
  {
   "cell_type": "code",
   "execution_count": 1,
   "metadata": {},
   "outputs": [],
   "source": [
    "import pandas as pd"
   ]
  },
  {
   "cell_type": "code",
   "execution_count": 2,
   "metadata": {},
   "outputs": [],
   "source": [
    "df1 = pd.read_excel('files/1.Unplanned_Hospital_Visits_-_Hospital.xlsx')"
   ]
  },
  {
   "cell_type": "code",
   "execution_count": 3,
   "metadata": {},
   "outputs": [],
   "source": [
    "condition = df1['Measure Name'] == 'Heart failure (HF) 30-Day Readmission Rate'"
   ]
  },
  {
   "cell_type": "code",
   "execution_count": 4,
   "metadata": {},
   "outputs": [],
   "source": [
    "df1 = df1.loc[condition]"
   ]
  },
  {
   "cell_type": "code",
   "execution_count": 5,
   "metadata": {},
   "outputs": [],
   "source": [
    "Measure_ID = df1.iloc[1]['Measure ID']"
   ]
  },
  {
   "cell_type": "code",
   "execution_count": 6,
   "metadata": {},
   "outputs": [],
   "source": [
    "rename = {'Score':'READM_30_HF'}"
   ]
  },
  {
   "cell_type": "code",
   "execution_count": 7,
   "metadata": {},
   "outputs": [],
   "source": [
    "df1.drop(['Measure Name', 'Measure ID'], axis=1, inplace=True)"
   ]
  },
  {
   "cell_type": "code",
   "execution_count": 8,
   "metadata": {},
   "outputs": [],
   "source": [
    "df1.rename(columns=rename, inplace=True)"
   ]
  },
  {
   "cell_type": "code",
   "execution_count": 9,
   "metadata": {},
   "outputs": [
    {
     "name": "stdout",
     "output_type": "stream",
     "text": [
      "<class 'pandas.core.frame.DataFrame'>\n",
      "Int64Index: 4944 entries, 4944 to 9887\n",
      "Data columns (total 17 columns):\n",
      "Provider ID             4944 non-null object\n",
      "Hospital Name           4944 non-null object\n",
      "Address                 4944 non-null object\n",
      "City                    4944 non-null object\n",
      "State                   4944 non-null object\n",
      "ZIP Code                4944 non-null int64\n",
      "County Name             4931 non-null object\n",
      "Phone Number            4944 non-null int64\n",
      "Compared to National    4944 non-null object\n",
      "Denominator             4944 non-null object\n",
      "READM_30_HF             4944 non-null object\n",
      "Lower Estimate          4944 non-null object\n",
      "Higher Estimate         4944 non-null object\n",
      "Footnote                1223 non-null object\n",
      "Measure Start Date      4944 non-null datetime64[ns]\n",
      "Measure End Date        4944 non-null object\n",
      "Location                4944 non-null object\n",
      "dtypes: datetime64[ns](1), int64(2), object(14)\n",
      "memory usage: 695.2+ KB\n"
     ]
    }
   ],
   "source": [
    "df1.info()"
   ]
  },
  {
   "cell_type": "code",
   "execution_count": null,
   "metadata": {},
   "outputs": [],
   "source": []
  }
 ],
 "metadata": {
  "kernelspec": {
   "display_name": "Python 3",
   "language": "python",
   "name": "python3"
  },
  "language_info": {
   "codemirror_mode": {
    "name": "ipython",
    "version": 3
   },
   "file_extension": ".py",
   "mimetype": "text/x-python",
   "name": "python",
   "nbconvert_exporter": "python",
   "pygments_lexer": "ipython3",
   "version": "3.6.3"
  }
 },
 "nbformat": 4,
 "nbformat_minor": 2
}
