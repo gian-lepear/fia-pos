{
 "cells": [
  {
   "cell_type": "code",
   "execution_count": 1,
   "metadata": {},
   "outputs": [],
   "source": [
    "import pandas as pd"
   ]
  },
  {
   "cell_type": "code",
   "execution_count": 7,
   "metadata": {},
   "outputs": [],
   "source": [
    "# columns_pivot_measure = ['Provider ID', 'Measure', 'Measure Response']\n",
    "\n",
    "# pivot_measure_df = df.loc[:, columns_pivot_measure]\n",
    "\n",
    "# pivot_df_measure = pd.pivot_table(\n",
    "#     pivot_measure_df,\n",
    "#     values ='Measure Response',\n",
    "#     index =['Provider ID'],\n",
    "#     columns=['Measure'],\n",
    "#     aggfunc='first'\n",
    "# )\n",
    "\n",
    "# pivot_df_measure.reset_index(inplace=True)\n",
    "\n",
    "# df.drop(['Measure', 'Measure Response'], inplace=True, axis=1)\n",
    "# df.drop_duplicates(inplace=True)\n",
    "# df = pd.merge(left=df, right=pivot_df_measure, on=['Provider ID'])"
   ]
  },
  {
   "cell_type": "code",
   "execution_count": null,
   "metadata": {},
   "outputs": [],
   "source": [
    "class Pivot():\n",
    "    def __init__(self, dataframe, index, columns, values):\n",
    "        self._dataframe = dataframe\n",
    "        self._index = index\n",
    "        self._columns = columns\n",
    "        self._values = values\n",
    "    \n",
    "    def _pivot_dataframe(self):\n",
    "        pivot_df = pd.pivot_table(\n",
    "            data=self._dataframe,\n",
    "            values=self._values,\n",
    "            index=self._index,\n",
    "            columns=self._columns,\n",
    "            aggfunc='first'\n",
    "        )\n",
    "        pivot_df.reset_index(inplace=True)\n",
    "        return pivot_df\n",
    "    \n",
    "    def _remove_dataframe_duplicates(self):\n",
    "        drop_columns = self._columns + self._values\n",
    "        self._dataframe.drop(drop_columns, inplace=True, axis=1)\n",
    "        self._dataframe.drop_duplicates(inplace=True)\n",
    "    \n",
    "    def get_pivot_dataframe(self):\n",
    "        df_pivot = self._pivot_dataframe()\n",
    "        self._remove_dataframe_duplicates()\n",
    "        \n",
    "        final_df = pd.merge(\n",
    "            left=self._dataframe,\n",
    "            right=df_pivot,\n",
    "            on=self._index\n",
    "        )\n",
    "        \n",
    "        return final_df\n",
    "    "
   ]
  }
 ],
 "metadata": {
  "kernelspec": {
   "display_name": "Python 3",
   "language": "python",
   "name": "python3"
  },
  "language_info": {
   "codemirror_mode": {
    "name": "ipython",
    "version": 3
   },
   "file_extension": ".py",
   "mimetype": "text/x-python",
   "name": "python",
   "nbconvert_exporter": "python",
   "pygments_lexer": "ipython3",
   "version": "3.6.3"
  }
 },
 "nbformat": 4,
 "nbformat_minor": 2
}
